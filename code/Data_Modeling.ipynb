{
 "cells": [
  {
   "cell_type": "markdown",
   "metadata": {},
   "source": [
    "# Binary Classification\n",
    "- Algorithms & Methods\n",
    "- Class Imbalances\n",
    "- Model Selection"
   ]
  },
  {
   "cell_type": "code",
   "execution_count": 1,
   "metadata": {},
   "outputs": [
    {
     "name": "stderr",
     "output_type": "stream",
     "text": [
      "c:\\Users\\johne\\anaconda3\\lib\\site-packages\\scipy\\__init__.py:138: UserWarning: A NumPy version >=1.16.5 and <1.23.0 is required for this version of SciPy (detected version 1.23.5)\n",
      "  warnings.warn(f\"A NumPy version >={np_minversion} and <{np_maxversion} is required for this version of \"\n"
     ]
    }
   ],
   "source": [
    "# Importing libraries\n",
    "import pandas as pd\n",
    "import numpy as np\n",
    "from sklearn.neighbors import KNeighborsClassifier\n",
    "from sklearn.linear_model import LogisticRegression\n",
    "from sklearn.ensemble import RandomForestClassifier\n",
    "from sklearn.ensemble import StackingClassifier\n",
    "from sklearn.utils import parallel_backend\n",
    "from sklearn.metrics import classification_report, confusion_matrix, accuracy_score\n",
    "from FeatureSelection import select_features\n",
    "from Preprocessing import IncomePreprocess\n"
   ]
  },
  {
   "cell_type": "code",
   "execution_count": 2,
   "metadata": {},
   "outputs": [],
   "source": [
    "train_data = pd.read_csv('../data/census_income_learn.csv', header=None)\n",
    "test_data = pd.read_csv('../data/census_income_test.csv', header=None)"
   ]
  },
  {
   "cell_type": "code",
   "execution_count": 3,
   "metadata": {},
   "outputs": [],
   "source": [
    "# Preprocessing step\n",
    "ip  = IncomePreprocess()\n",
    "# df, df_test = ip.label_features(train_data, test_data)\n",
    "X_train, X_test = ip.preprocess(train_data, test_data)"
   ]
  },
  {
   "cell_type": "code",
   "execution_count": 4,
   "metadata": {},
   "outputs": [
    {
     "data": {
      "text/plain": [
       "age                                          22.210001\n",
       "class_of_work                                 0.867545\n",
       "industry_code                                18.106401\n",
       "occupation_code                              14.498128\n",
       "education                                     4.675408\n",
       "wage_per_hour                                 0.027708\n",
       "enrolled_in_edu_inst_last_wk                  0.376869\n",
       "marital_status                                2.798346\n",
       "major_industry_code                           4.815376\n",
       "major_occupation_code                         3.129627\n",
       "race                                          0.866609\n",
       "hispanic_origin                               2.074371\n",
       "sex                                           0.499532\n",
       "member_of_labor_union                         0.304504\n",
       "reason_for_unemployment                       0.317726\n",
       "full_or_part_time_employment_stat             1.202021\n",
       "tax_filer_status                              1.392657\n",
       "region of previous residence                  0.467167\n",
       "state_of_previous_residence                   5.694231\n",
       "detailed_household_and_family_stat           17.692730\n",
       "detailed_household_summary_in_household       1.685871\n",
       "migration_code_change_in_msa                  3.392642\n",
       "migration_code_change_in_reg                  3.102536\n",
       "migration_code_move_within_reg                3.593874\n",
       "live_in_this_house_1_year_ago                 0.618429\n",
       "migration_prev_res_in_sunbelt                 1.018381\n",
       "num_persons_worked_for_employer               2.371018\n",
       "family_member_under_18                        1.575392\n",
       "country_of_birth_father                      10.653951\n",
       "country_of_birth_mother                      10.440558\n",
       "country_of_birth_self                         8.235906\n",
       "citizenship                                   1.119098\n",
       "own_business_or_self_employed                 0.557739\n",
       "fill_inc_questionnaire_for_veterans_admin     0.100349\n",
       "veteran_benefits                              0.836813\n",
       "weeks_worked_in_year                         24.428588\n",
       "year                                          0.500001\n",
       "y                                             0.243105\n",
       "has_gains                                     0.190207\n",
       "has_losses                                    0.139653\n",
       "has_stock                                     0.309983\n",
       "origin                                        0.297310\n",
       "dtype: float64"
      ]
     },
     "execution_count": 4,
     "metadata": {},
     "output_type": "execute_result"
    }
   ],
   "source": [
    "# STD for wage per hour was huge before\n",
    "X_train.head()\n",
    "X_train.std(axis=0)\n",
    "# X_train.columns"
   ]
  },
  {
   "cell_type": "code",
   "execution_count": 5,
   "metadata": {},
   "outputs": [],
   "source": [
    "# Splitting the features from the response\n",
    "Y_train = X_train.pop('y')\n",
    "Y_test = X_test.pop('y')"
   ]
  },
  {
   "cell_type": "code",
   "execution_count": 6,
   "metadata": {},
   "outputs": [],
   "source": [
    "# Initializing models\n",
    "kn = KNeighborsClassifier()\n",
    "rf = RandomForestClassifier()\n",
    "lgm = LogisticRegression(solver=\"liblinear\")"
   ]
  },
  {
   "cell_type": "code",
   "execution_count": 7,
   "metadata": {},
   "outputs": [
    {
     "name": "stdout",
     "output_type": "stream",
     "text": [
      "Classes of response: [0 1], Count per class: [183912  12382]\n"
     ]
    }
   ],
   "source": [
    "(unique, counts) = np.unique(Y_train, return_counts=True)\n",
    "print(f\"Classes of response: {unique}, Count per class: {counts}\")"
   ]
  },
  {
   "cell_type": "code",
   "execution_count": 8,
   "metadata": {},
   "outputs": [
    {
     "data": {
      "text/html": [
       "<style>#sk-container-id-1 {color: black;background-color: white;}#sk-container-id-1 pre{padding: 0;}#sk-container-id-1 div.sk-toggleable {background-color: white;}#sk-container-id-1 label.sk-toggleable__label {cursor: pointer;display: block;width: 100%;margin-bottom: 0;padding: 0.3em;box-sizing: border-box;text-align: center;}#sk-container-id-1 label.sk-toggleable__label-arrow:before {content: \"▸\";float: left;margin-right: 0.25em;color: #696969;}#sk-container-id-1 label.sk-toggleable__label-arrow:hover:before {color: black;}#sk-container-id-1 div.sk-estimator:hover label.sk-toggleable__label-arrow:before {color: black;}#sk-container-id-1 div.sk-toggleable__content {max-height: 0;max-width: 0;overflow: hidden;text-align: left;background-color: #f0f8ff;}#sk-container-id-1 div.sk-toggleable__content pre {margin: 0.2em;color: black;border-radius: 0.25em;background-color: #f0f8ff;}#sk-container-id-1 input.sk-toggleable__control:checked~div.sk-toggleable__content {max-height: 200px;max-width: 100%;overflow: auto;}#sk-container-id-1 input.sk-toggleable__control:checked~label.sk-toggleable__label-arrow:before {content: \"▾\";}#sk-container-id-1 div.sk-estimator input.sk-toggleable__control:checked~label.sk-toggleable__label {background-color: #d4ebff;}#sk-container-id-1 div.sk-label input.sk-toggleable__control:checked~label.sk-toggleable__label {background-color: #d4ebff;}#sk-container-id-1 input.sk-hidden--visually {border: 0;clip: rect(1px 1px 1px 1px);clip: rect(1px, 1px, 1px, 1px);height: 1px;margin: -1px;overflow: hidden;padding: 0;position: absolute;width: 1px;}#sk-container-id-1 div.sk-estimator {font-family: monospace;background-color: #f0f8ff;border: 1px dotted black;border-radius: 0.25em;box-sizing: border-box;margin-bottom: 0.5em;}#sk-container-id-1 div.sk-estimator:hover {background-color: #d4ebff;}#sk-container-id-1 div.sk-parallel-item::after {content: \"\";width: 100%;border-bottom: 1px solid gray;flex-grow: 1;}#sk-container-id-1 div.sk-label:hover label.sk-toggleable__label {background-color: #d4ebff;}#sk-container-id-1 div.sk-serial::before {content: \"\";position: absolute;border-left: 1px solid gray;box-sizing: border-box;top: 0;bottom: 0;left: 50%;z-index: 0;}#sk-container-id-1 div.sk-serial {display: flex;flex-direction: column;align-items: center;background-color: white;padding-right: 0.2em;padding-left: 0.2em;position: relative;}#sk-container-id-1 div.sk-item {position: relative;z-index: 1;}#sk-container-id-1 div.sk-parallel {display: flex;align-items: stretch;justify-content: center;background-color: white;position: relative;}#sk-container-id-1 div.sk-item::before, #sk-container-id-1 div.sk-parallel-item::before {content: \"\";position: absolute;border-left: 1px solid gray;box-sizing: border-box;top: 0;bottom: 0;left: 50%;z-index: -1;}#sk-container-id-1 div.sk-parallel-item {display: flex;flex-direction: column;z-index: 1;position: relative;background-color: white;}#sk-container-id-1 div.sk-parallel-item:first-child::after {align-self: flex-end;width: 50%;}#sk-container-id-1 div.sk-parallel-item:last-child::after {align-self: flex-start;width: 50%;}#sk-container-id-1 div.sk-parallel-item:only-child::after {width: 0;}#sk-container-id-1 div.sk-dashed-wrapped {border: 1px dashed gray;margin: 0 0.4em 0.5em 0.4em;box-sizing: border-box;padding-bottom: 0.4em;background-color: white;}#sk-container-id-1 div.sk-label label {font-family: monospace;font-weight: bold;display: inline-block;line-height: 1.2em;}#sk-container-id-1 div.sk-label-container {text-align: center;}#sk-container-id-1 div.sk-container {/* jupyter's `normalize.less` sets `[hidden] { display: none; }` but bootstrap.min.css set `[hidden] { display: none !important; }` so we also need the `!important` here to be able to override the default hidden behavior on the sphinx rendered scikit-learn.org. See: https://github.com/scikit-learn/scikit-learn/issues/21755 */display: inline-block !important;position: relative;}#sk-container-id-1 div.sk-text-repr-fallback {display: none;}</style><div id=\"sk-container-id-1\" class=\"sk-top-container\"><div class=\"sk-text-repr-fallback\"><pre>LogisticRegression(solver=&#x27;liblinear&#x27;)</pre><b>In a Jupyter environment, please rerun this cell to show the HTML representation or trust the notebook. <br />On GitHub, the HTML representation is unable to render, please try loading this page with nbviewer.org.</b></div><div class=\"sk-container\" hidden><div class=\"sk-item\"><div class=\"sk-estimator sk-toggleable\"><input class=\"sk-toggleable__control sk-hidden--visually\" id=\"sk-estimator-id-1\" type=\"checkbox\" checked><label for=\"sk-estimator-id-1\" class=\"sk-toggleable__label sk-toggleable__label-arrow\">LogisticRegression</label><div class=\"sk-toggleable__content\"><pre>LogisticRegression(solver=&#x27;liblinear&#x27;)</pre></div></div></div></div></div>"
      ],
      "text/plain": [
       "LogisticRegression(solver='liblinear')"
      ]
     },
     "execution_count": 8,
     "metadata": {},
     "output_type": "execute_result"
    }
   ],
   "source": [
    "lgm.fit(X_train, Y_train)"
   ]
  },
  {
   "cell_type": "code",
   "execution_count": 13,
   "metadata": {},
   "outputs": [
    {
     "name": "stdout",
     "output_type": "stream",
     "text": [
      "LogisticRegression Results\n",
      "---------------------------\n",
      "Confusion matrix \n",
      " [[91676  1017]\n",
      " [ 4144  2042]]\n",
      "Classifcation report \n",
      "               precision    recall  f1-score   support\n",
      "\n",
      "           0       0.96      0.99      0.97     92693\n",
      "           1       0.67      0.33      0.44      6186\n",
      "\n",
      "    accuracy                           0.95     98879\n",
      "   macro avg       0.81      0.66      0.71     98879\n",
      "weighted avg       0.94      0.95      0.94     98879\n",
      "\n",
      "Accuracy 0.9478048928488354\n"
     ]
    }
   ],
   "source": [
    "y_pred = lgm.predict(X_test)\n",
    "print('LogisticRegression Results')\n",
    "print('---------------------------')\n",
    "print('Confusion matrix \\n', confusion_matrix(Y_test,y_pred))\n",
    "print('Classifcation report \\n', classification_report(Y_test,y_pred))\n",
    "print('Accuracy', accuracy_score(Y_test, y_pred))"
   ]
  },
  {
   "cell_type": "code",
   "execution_count": 13,
   "metadata": {},
   "outputs": [],
   "source": [
    "# # Train the KNN model\n",
    "# estimators= [('kn', kn), ('rfc',rf), ('lgm',lgm)]\n",
    "\n",
    "# with parallel_backend(backend=\"dask\"):\n",
    "#     stacked_model = StackingClassifier(estimators=estimators, final_estimator=LogisticRegression(solver=\"liblinear\"))\n",
    "#     stacked_model.fit(X_train,Y_train)"
   ]
  },
  {
   "cell_type": "code",
   "execution_count": 15,
   "metadata": {},
   "outputs": [],
   "source": [
    "# Fitting to some sklearn binary classifiers\n",
    "# from FeatureSelection import select_features\n",
    "# estimator, score = select_features(X_train, Y_train)"
   ]
  }
 ],
 "metadata": {
  "kernelspec": {
   "display_name": "Python 3.8.3 ('base')",
   "language": "python",
   "name": "python3"
  },
  "language_info": {
   "codemirror_mode": {
    "name": "ipython",
    "version": 3
   },
   "file_extension": ".py",
   "mimetype": "text/x-python",
   "name": "python",
   "nbconvert_exporter": "python",
   "pygments_lexer": "ipython3",
   "version": "3.8.3"
  },
  "orig_nbformat": 4,
  "vscode": {
   "interpreter": {
    "hash": "fed39d51549272f52704a1e283bb012a43712646dbcaf4bf95a4c0ba430ce7c5"
   }
  }
 },
 "nbformat": 4,
 "nbformat_minor": 2
}
